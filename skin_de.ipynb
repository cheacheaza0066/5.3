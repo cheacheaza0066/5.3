{
  "nbformat": 4,
  "nbformat_minor": 0,
  "metadata": {
    "colab": {
      "provenance": [],
      "authorship_tag": "ABX9TyPulmdYAuviInJE6m29X+Gf",
      "include_colab_link": true
    },
    "kernelspec": {
      "name": "python3",
      "display_name": "Python 3"
    },
    "language_info": {
      "name": "python"
    },
    "accelerator": "GPU",
    "gpuClass": "standard"
  },
  "cells": [
    {
      "cell_type": "markdown",
      "metadata": {
        "id": "view-in-github",
        "colab_type": "text"
      },
      "source": [
        "<a href=\"https://colab.research.google.com/github/cheacheaza0066/5.30/blob/master/skin_de.ipynb\" target=\"_parent\"><img src=\"https://colab.research.google.com/assets/colab-badge.svg\" alt=\"Open In Colab\"/></a>"
      ]
    },
    {
      "cell_type": "code",
      "execution_count": null,
      "metadata": {
        "id": "NP3kwMQC6IcT"
      },
      "outputs": [],
      "source": [
        "import numpy as np #ใช้คำนวน\n",
        "import cv2 #จัดการรูปภาพ\n",
        "import tensorflow as tf\n",
        "from os import listdir #จัดการไฟล\n",
        "from os.path import isfile, join \n",
        "from tqdm import tqdm #Monitor Process\n",
        "from keras.models import Sequential \n",
        "from keras.layers import Dense, Dropout, Activation, Flatten , Conv2D, MaxPool2D"
      ]
    },
    {
      "cell_type": "code",
      "source": [
        "from google.colab import drive\n",
        "drive.mount('/content/drive')"
      ],
      "metadata": {
        "colab": {
          "base_uri": "https://localhost:8080/"
        },
        "id": "MySqd8RigMnu",
        "outputId": "be70e8dc-70b6-4dc2-d71a-a204c62d0520"
      },
      "execution_count": null,
      "outputs": [
        {
          "output_type": "stream",
          "name": "stdout",
          "text": [
            "Mounted at /content/drive\n"
          ]
        }
      ]
    },
    {
      "cell_type": "code",
      "source": [
        "!unzip /content/drive/MyDrive/Testthai-20000file.zip\n",
        "\n",
        "!unzip /content/drive/MyDrive/test.zip\n"
      ],
      "metadata": {
        "id": "8Zl7qAWZgOmF"
      },
      "execution_count": null,
      "outputs": []
    },
    {
      "cell_type": "code",
      "source": [
        "width = 128 #ขนาดรูปภาพ\n",
        "num_classes = 13 #จำนวน Class\n",
        "trainpath = 'train/'\n",
        "testpath = 'test/'\n",
        "trainImg = [trainpath+f for f in listdir(trainpath)]\n",
        "testImg = [testpath+f for f in listdir(testpath)]"
      ],
      "metadata": {
        "id": "ep13baSKgPzX"
      },
      "execution_count": null,
      "outputs": []
    },
    {
      "cell_type": "code",
      "source": [
        "trainImg , testImg"
      ],
      "metadata": {
        "id": "-Lq27JjcgRA2"
      },
      "execution_count": null,
      "outputs": []
    },
    {
      "cell_type": "code",
      "source": [
        "#สร้าง Function สำหรับอ่านรูปภาพ เเละ สร้าง labels \n",
        "\n",
        "def img2data(path):\n",
        "  rawImgs = []\n",
        "  labels = []\n",
        "  for imagePath in (path):\n",
        "      for item in tqdm(listdir(imagePath)):\n",
        "          file = join(imagePath, item)\n",
        "          if file[-1] =='g':\n",
        "            img = cv2.imread(file , cv2.COLOR_BGR2RGB)\n",
        "            img = cv2.resize(img ,(width,width))\n",
        "            rawImgs.append(img)\n",
        "            l = imagePath.split('/')[1]\n",
        "            if l == 'สิว':\n",
        "              labels.append([1,0,0,0,0,0,0,0,0,0,0,0,0])         \n",
        "            elif l == 'กลาก':\n",
        "              labels.append([0,1,0,0,0,0,0,0,0,0,0,0,0])         \n",
        "            elif l == 'ด่างขาว':\n",
        "              labels.append([0,0,1,0,0,0,0,0,0,0,0,0,0])\n",
        "            elif l == 'ตุ่มพองน้ำใส':\n",
        "              labels.append([0,0,0,1,0,0,0,0,0,0,0,0,0])\n",
        "            elif l == 'ผิวหนังอักเสบจากต่อมไขมัน':\n",
        "              labels.append([0,0,0,0,1,0,0,0,0,0,0,0,0])\n",
        "            elif l == 'ลมพิษ':\n",
        "              labels.append([0,0,0,0,0,1,0,0,0,0,0,0,0])\n",
        "            elif l == 'หูดข้าวสุก':\n",
        "              labels.append([0,0,0,0,0,0,1,0,0,0,0,0,0])\n",
        "            elif l == 'เกลื้อน':\n",
        "              labels.append([0,0,0,0,0,0,0,1,0,0,0,0,0])\n",
        "            elif l == 'โรคผื่นภูมิแพ้ผิวหนังหรือผิวหนังอักเสบ':\n",
        "              labels.append([0,0,0,0,0,0,0,0,1,0,0,0,0])\n",
        "            elif l == 'โรคสะเก็ดเงิน':\n",
        "              labels.append([0,0,0,0,0,0,0,0,0,1,0,0,0])\n",
        "            elif l == 'โรคหลอดเลือดอักเสบ':\n",
        "              labels.append([0,0,0,0,0,0,0,0,0,0,1,0,0])\n",
        "            elif l == 'โรคหิด':\n",
        "              labels.append([0,0,0,0,0,0,0,0,0,0,0,1,0])\n",
        "            elif l == 'โรคเริม':\n",
        "              labels.append([0,0,0,0,0,0,0,0,0,0,0,0,1])\n",
        "  return rawImgs, labels # retuen ค่า pixleรูปภาพ เเละ labels"
      ],
      "metadata": {
        "id": "60LPVb-HgSLX"
      },
      "execution_count": null,
      "outputs": []
    },
    {
      "cell_type": "code",
      "source": [
        "#สร้างตัวเเปลมารับค่าจาก fucntion img2data\n",
        "# x_train เก็บค่ารูปภาพ \n",
        "# y_train เก็บ labels\n",
        "\n",
        "x_train, y_train = img2data(trainImg)\n",
        "x_test, y_test = img2data(testImg)"
      ],
      "metadata": {
        "id": "nBBdUupCgTRn",
        "colab": {
          "base_uri": "https://localhost:8080/"
        },
        "outputId": "88443070-827d-418f-a887-e44ef11bdd51"
      },
      "execution_count": null,
      "outputs": [
        {
          "output_type": "stream",
          "name": "stderr",
          "text": [
            "100%|██████████| 1752/1752 [00:16<00:00, 105.12it/s]\n",
            "100%|██████████| 1302/1302 [00:07<00:00, 185.02it/s]\n",
            "100%|██████████| 1410/1410 [00:06<00:00, 209.76it/s]\n",
            "100%|██████████| 1248/1248 [00:05<00:00, 229.52it/s]\n",
            "100%|██████████| 1492/1492 [00:11<00:00, 129.15it/s]\n",
            "100%|██████████| 1584/1584 [00:14<00:00, 109.92it/s]\n",
            "100%|██████████| 1448/1448 [00:06<00:00, 236.23it/s]\n",
            "100%|██████████| 1897/1897 [00:10<00:00, 175.50it/s]\n",
            "100%|██████████| 1362/1362 [00:08<00:00, 156.50it/s]\n",
            "100%|██████████| 1254/1254 [00:05<00:00, 223.43it/s]\n",
            "100%|██████████| 1770/1770 [00:05<00:00, 298.13it/s]\n",
            "100%|██████████| 1580/1580 [00:17<00:00, 91.20it/s] \n",
            "100%|██████████| 1245/1245 [00:09<00:00, 137.75it/s]\n",
            "100%|██████████| 53/53 [00:00<00:00, 135.41it/s]\n",
            "100%|██████████| 74/74 [00:00<00:00, 126.27it/s]\n",
            "100%|██████████| 11/11 [00:00<00:00, 103.97it/s]\n",
            "100%|██████████| 15/15 [00:00<00:00, 31.80it/s]\n",
            "100%|██████████| 102/102 [00:00<00:00, 123.18it/s]\n",
            "100%|██████████| 10/10 [00:00<00:00, 138.19it/s]\n",
            "100%|██████████| 16/16 [00:00<00:00, 124.01it/s]\n",
            "100%|██████████| 19/19 [00:00<00:00, 117.25it/s]\n",
            "100%|██████████| 136/136 [00:01<00:00, 122.92it/s]\n",
            "100%|██████████| 43/43 [00:00<00:00, 206.74it/s]\n",
            "100%|██████████| 11/11 [00:00<00:00, 203.87it/s]\n",
            "100%|██████████| 10/10 [00:00<00:00, 38.57it/s]\n",
            "100%|██████████| 36/36 [00:00<00:00, 193.41it/s]\n"
          ]
        }
      ]
    },
    {
      "cell_type": "code",
      "source": [
        "# เเปลงเป็น numpy array เเล้วเปลียนข้อมูลเป็น float16\n",
        "x_train = np.array(x_train)\n",
        "y_train = np.array(y_train)\n",
        "x_test = np.array(x_test)\n",
        "y_test = np.array(y_test)\n",
        "# x_train = x_train.astype('float32')\n",
        "# x_test = x_test.astype('float32')\n",
        "\n",
        "# ต้องต้องแปลงเป็นตัวเลข\n",
        "# แบบ float16 หรือตัวเลขที่มีจุดทศนิยม 3 ตำ แหน่ง เนื่องจากเมื่อใช้float32 หน่วยความจำ หลักจะไม่เพียงพอ\n",
        "# ไม่สามารถดำ เนินการได\n",
        "x_train = x_train.astype('float16') \n",
        "x_test = x_test.astype('float16')\n",
        "x_train /= 255 #x_train เป็นค่า rgb 0-255,นำข้อมูลเข้า keras ไม่เกิน 1 ต้องหาร 255\n",
        "x_test /= 255"
      ],
      "metadata": {
        "id": "SQ4narHxgUHX"
      },
      "execution_count": null,
      "outputs": []
    },
    {
      "cell_type": "code",
      "source": [
        "# x_train.shape,y_train.shape,x_test.shape, y_test.shape"
      ],
      "metadata": {
        "id": "wg5S7UglgVDS",
        "colab": {
          "base_uri": "https://localhost:8080/"
        },
        "outputId": "3faf56fd-61b5-44bf-873b-5f6913c3daa6"
      },
      "execution_count": null,
      "outputs": [
        {
          "output_type": "execute_result",
          "data": {
            "text/plain": [
              "((19332, 128, 128, 3), (19332, 13), (536, 128, 128, 3), (536, 13))"
            ]
          },
          "metadata": {},
          "execution_count": 8
        }
      ]
    },
    {
      "cell_type": "code",
      "source": [
        "base_model = tf.keras.applications.MobileNetV2(input_shape=(128,128,3),\n",
        "                                                   include_top=False,\n",
        "                                                   weights='imagenet')\n",
        "base_model.trainable = False\n",
        "num_classes = 13\n",
        "\n",
        "model = Sequential([\n",
        "        base_model,\n",
        "        Conv2D(128, 3, activation='relu'),\n",
        "        MaxPool2D(pool_size=(2,2 )),\n",
        "        Dense(16),\n",
        "        Flatten(),\n",
        "        Dense(num_classes, activation='softmax')\n",
        "    ])\n",
        "\n"
      ],
      "metadata": {
        "id": "IaSiqw7jgWWV"
      },
      "execution_count": null,
      "outputs": []
    },
    {
      "cell_type": "code",
      "source": [
        "model.compile(optimizer=tf.keras.optimizers.Adam(learning_rate=0.0001), \n",
        "              loss='categorical_crossentropy', \n",
        "              metrics= ['accuracy'])\n",
        "batch_size = 128 #กำหนดข้อมูลที่นำเข้า NN Network\n",
        "epochs = 100"
      ],
      "metadata": {
        "id": "vJpX1wQCgX10"
      },
      "execution_count": null,
      "outputs": []
    },
    {
      "cell_type": "code",
      "source": [
        "history = model.fit(x_train, y_train ,batch_size=batch_size, epochs=epochs ,validation_data=(x_test, y_test))\n"
      ],
      "metadata": {
        "id": "37O4Zh9BgYn1",
        "colab": {
          "base_uri": "https://localhost:8080/"
        },
        "outputId": "e7e5736a-aac2-4b80-f9f0-494cb35c0070"
      },
      "execution_count": null,
      "outputs": [
        {
          "output_type": "stream",
          "name": "stdout",
          "text": [
            "Epoch 1/100\n",
            "152/152 [==============================] - 25s 76ms/step - loss: 1.0304 - accuracy: 0.6986 - val_loss: 1.7896 - val_accuracy: 0.4534\n",
            "Epoch 2/100\n",
            "152/152 [==============================] - 10s 64ms/step - loss: 0.1963 - accuracy: 0.9648 - val_loss: 1.8130 - val_accuracy: 0.4646\n",
            "Epoch 3/100\n",
            "152/152 [==============================] - 10s 64ms/step - loss: 0.0635 - accuracy: 0.9950 - val_loss: 1.8351 - val_accuracy: 0.5093\n",
            "Epoch 4/100\n",
            "152/152 [==============================] - 9s 62ms/step - loss: 0.0299 - accuracy: 0.9988 - val_loss: 1.8487 - val_accuracy: 0.5168\n",
            "Epoch 5/100\n",
            "152/152 [==============================] - 10s 64ms/step - loss: 0.0187 - accuracy: 0.9993 - val_loss: 1.9182 - val_accuracy: 0.5093\n",
            "Epoch 6/100\n",
            "152/152 [==============================] - 10s 64ms/step - loss: 0.0116 - accuracy: 0.9999 - val_loss: 1.9855 - val_accuracy: 0.5131\n",
            "Epoch 7/100\n",
            "152/152 [==============================] - 10s 63ms/step - loss: 0.0084 - accuracy: 0.9999 - val_loss: 2.0069 - val_accuracy: 0.5187\n",
            "Epoch 8/100\n",
            "152/152 [==============================] - 10s 63ms/step - loss: 0.0068 - accuracy: 0.9997 - val_loss: 2.0307 - val_accuracy: 0.5075\n",
            "Epoch 9/100\n",
            "152/152 [==============================] - 10s 64ms/step - loss: 0.0049 - accuracy: 1.0000 - val_loss: 2.0680 - val_accuracy: 0.5187\n",
            "Epoch 10/100\n",
            "152/152 [==============================] - 10s 64ms/step - loss: 0.0039 - accuracy: 1.0000 - val_loss: 2.0949 - val_accuracy: 0.5168\n",
            "Epoch 11/100\n",
            "152/152 [==============================] - 10s 63ms/step - loss: 0.0032 - accuracy: 1.0000 - val_loss: 2.1397 - val_accuracy: 0.5187\n",
            "Epoch 12/100\n",
            "152/152 [==============================] - 10s 64ms/step - loss: 0.0030 - accuracy: 0.9998 - val_loss: 2.1403 - val_accuracy: 0.5149\n",
            "Epoch 13/100\n",
            "152/152 [==============================] - 10s 65ms/step - loss: 0.0073 - accuracy: 0.9993 - val_loss: 2.1577 - val_accuracy: 0.5205\n",
            "Epoch 14/100\n",
            "152/152 [==============================] - 10s 64ms/step - loss: 0.0029 - accuracy: 0.9997 - val_loss: 2.1872 - val_accuracy: 0.5168\n",
            "Epoch 15/100\n",
            "152/152 [==============================] - 10s 63ms/step - loss: 0.0016 - accuracy: 1.0000 - val_loss: 2.2244 - val_accuracy: 0.5131\n",
            "Epoch 16/100\n",
            "152/152 [==============================] - 10s 67ms/step - loss: 0.0013 - accuracy: 1.0000 - val_loss: 2.2269 - val_accuracy: 0.5112\n",
            "Epoch 17/100\n",
            "152/152 [==============================] - 10s 65ms/step - loss: 0.0012 - accuracy: 1.0000 - val_loss: 2.2521 - val_accuracy: 0.5149\n",
            "Epoch 18/100\n",
            "152/152 [==============================] - 10s 63ms/step - loss: 0.0010 - accuracy: 1.0000 - val_loss: 2.2697 - val_accuracy: 0.5205\n",
            "Epoch 19/100\n",
            "152/152 [==============================] - 10s 65ms/step - loss: 8.8867e-04 - accuracy: 1.0000 - val_loss: 2.2864 - val_accuracy: 0.5205\n",
            "Epoch 20/100\n",
            "152/152 [==============================] - 10s 65ms/step - loss: 7.8628e-04 - accuracy: 1.0000 - val_loss: 2.3100 - val_accuracy: 0.5224\n",
            "Epoch 21/100\n",
            "152/152 [==============================] - 10s 64ms/step - loss: 6.9724e-04 - accuracy: 1.0000 - val_loss: 2.3301 - val_accuracy: 0.5205\n",
            "Epoch 22/100\n",
            "152/152 [==============================] - 10s 63ms/step - loss: 6.2110e-04 - accuracy: 1.0000 - val_loss: 2.3404 - val_accuracy: 0.5224\n",
            "Epoch 23/100\n",
            "152/152 [==============================] - 10s 65ms/step - loss: 5.5925e-04 - accuracy: 1.0000 - val_loss: 2.3590 - val_accuracy: 0.5187\n",
            "Epoch 24/100\n",
            "152/152 [==============================] - 10s 65ms/step - loss: 4.9982e-04 - accuracy: 1.0000 - val_loss: 2.3807 - val_accuracy: 0.5224\n",
            "Epoch 25/100\n",
            "152/152 [==============================] - 10s 63ms/step - loss: 4.4964e-04 - accuracy: 1.0000 - val_loss: 2.3963 - val_accuracy: 0.5243\n",
            "Epoch 26/100\n",
            "152/152 [==============================] - 10s 64ms/step - loss: 4.0165e-04 - accuracy: 1.0000 - val_loss: 2.4130 - val_accuracy: 0.5187\n",
            "Epoch 27/100\n",
            "152/152 [==============================] - 10s 64ms/step - loss: 3.6388e-04 - accuracy: 1.0000 - val_loss: 2.4257 - val_accuracy: 0.5243\n",
            "Epoch 28/100\n",
            "152/152 [==============================] - 10s 65ms/step - loss: 3.2708e-04 - accuracy: 1.0000 - val_loss: 2.4422 - val_accuracy: 0.5243\n",
            "Epoch 29/100\n",
            "152/152 [==============================] - 10s 63ms/step - loss: 2.9547e-04 - accuracy: 1.0000 - val_loss: 2.4542 - val_accuracy: 0.5299\n",
            "Epoch 30/100\n",
            "152/152 [==============================] - 10s 64ms/step - loss: 2.6792e-04 - accuracy: 1.0000 - val_loss: 2.4733 - val_accuracy: 0.5243\n",
            "Epoch 31/100\n",
            "152/152 [==============================] - 10s 65ms/step - loss: 2.4307e-04 - accuracy: 1.0000 - val_loss: 2.4901 - val_accuracy: 0.5299\n",
            "Epoch 32/100\n",
            "152/152 [==============================] - 10s 64ms/step - loss: 2.2064e-04 - accuracy: 1.0000 - val_loss: 2.5055 - val_accuracy: 0.5280\n",
            "Epoch 33/100\n",
            "152/152 [==============================] - 10s 64ms/step - loss: 1.9998e-04 - accuracy: 1.0000 - val_loss: 2.5072 - val_accuracy: 0.5317\n",
            "Epoch 34/100\n",
            "152/152 [==============================] - 10s 64ms/step - loss: 1.8162e-04 - accuracy: 1.0000 - val_loss: 2.5259 - val_accuracy: 0.5299\n",
            "Epoch 35/100\n",
            "152/152 [==============================] - 10s 65ms/step - loss: 1.6713e-04 - accuracy: 1.0000 - val_loss: 2.5483 - val_accuracy: 0.5299\n",
            "Epoch 36/100\n",
            "152/152 [==============================] - 10s 63ms/step - loss: 1.5083e-04 - accuracy: 1.0000 - val_loss: 2.5636 - val_accuracy: 0.5280\n",
            "Epoch 37/100\n",
            "152/152 [==============================] - 10s 64ms/step - loss: 1.3730e-04 - accuracy: 1.0000 - val_loss: 2.5731 - val_accuracy: 0.5317\n",
            "Epoch 38/100\n",
            "152/152 [==============================] - 10s 65ms/step - loss: 1.2511e-04 - accuracy: 1.0000 - val_loss: 2.5925 - val_accuracy: 0.5317\n",
            "Epoch 39/100\n",
            "152/152 [==============================] - 10s 64ms/step - loss: 1.4434e-04 - accuracy: 1.0000 - val_loss: 2.6332 - val_accuracy: 0.5299\n",
            "Epoch 40/100\n",
            "152/152 [==============================] - 10s 63ms/step - loss: 0.0802 - accuracy: 0.9758 - val_loss: 2.8359 - val_accuracy: 0.5392\n",
            "Epoch 41/100\n",
            "152/152 [==============================] - 10s 66ms/step - loss: 0.0025 - accuracy: 0.9996 - val_loss: 2.7841 - val_accuracy: 0.5466\n",
            "Epoch 42/100\n",
            "152/152 [==============================] - 10s 65ms/step - loss: 0.0024 - accuracy: 0.9997 - val_loss: 2.7453 - val_accuracy: 0.5578\n",
            "Epoch 43/100\n",
            "152/152 [==============================] - 9s 62ms/step - loss: 3.9108e-04 - accuracy: 1.0000 - val_loss: 2.7602 - val_accuracy: 0.5560\n",
            "Epoch 44/100\n",
            "152/152 [==============================] - 10s 64ms/step - loss: 3.1568e-04 - accuracy: 1.0000 - val_loss: 2.7948 - val_accuracy: 0.5541\n",
            "Epoch 45/100\n",
            "152/152 [==============================] - 10s 65ms/step - loss: 2.6556e-04 - accuracy: 1.0000 - val_loss: 2.8203 - val_accuracy: 0.5522\n",
            "Epoch 46/100\n",
            "152/152 [==============================] - 10s 64ms/step - loss: 2.4740e-04 - accuracy: 1.0000 - val_loss: 2.8340 - val_accuracy: 0.5522\n",
            "Epoch 47/100\n",
            "152/152 [==============================] - 10s 64ms/step - loss: 2.0584e-04 - accuracy: 1.0000 - val_loss: 2.8539 - val_accuracy: 0.5504\n",
            "Epoch 48/100\n",
            "152/152 [==============================] - 10s 65ms/step - loss: 1.8523e-04 - accuracy: 1.0000 - val_loss: 2.8615 - val_accuracy: 0.5522\n",
            "Epoch 49/100\n",
            "152/152 [==============================] - 10s 64ms/step - loss: 1.6595e-04 - accuracy: 1.0000 - val_loss: 2.8718 - val_accuracy: 0.5522\n",
            "Epoch 50/100\n",
            "152/152 [==============================] - 10s 63ms/step - loss: 1.5130e-04 - accuracy: 1.0000 - val_loss: 2.8941 - val_accuracy: 0.5504\n",
            "Epoch 51/100\n",
            "152/152 [==============================] - 10s 64ms/step - loss: 1.3543e-04 - accuracy: 1.0000 - val_loss: 2.9055 - val_accuracy: 0.5522\n",
            "Epoch 52/100\n",
            "152/152 [==============================] - 10s 64ms/step - loss: 1.2585e-04 - accuracy: 1.0000 - val_loss: 2.9253 - val_accuracy: 0.5522\n",
            "Epoch 53/100\n",
            "152/152 [==============================] - 10s 65ms/step - loss: 1.1717e-04 - accuracy: 1.0000 - val_loss: 2.9405 - val_accuracy: 0.5541\n",
            "Epoch 54/100\n",
            "152/152 [==============================] - 10s 63ms/step - loss: 1.0583e-04 - accuracy: 1.0000 - val_loss: 2.9494 - val_accuracy: 0.5541\n",
            "Epoch 55/100\n",
            "152/152 [==============================] - 10s 65ms/step - loss: 9.7263e-05 - accuracy: 1.0000 - val_loss: 2.9622 - val_accuracy: 0.5522\n",
            "Epoch 56/100\n",
            "152/152 [==============================] - 10s 65ms/step - loss: 8.8289e-05 - accuracy: 1.0000 - val_loss: 2.9708 - val_accuracy: 0.5504\n",
            "Epoch 57/100\n",
            "152/152 [==============================] - 10s 64ms/step - loss: 8.5940e-05 - accuracy: 1.0000 - val_loss: 2.9830 - val_accuracy: 0.5522\n",
            "Epoch 58/100\n",
            "152/152 [==============================] - 10s 64ms/step - loss: 7.7148e-05 - accuracy: 1.0000 - val_loss: 2.9963 - val_accuracy: 0.5522\n",
            "Epoch 59/100\n",
            "152/152 [==============================] - 10s 65ms/step - loss: 7.1411e-05 - accuracy: 1.0000 - val_loss: 3.0092 - val_accuracy: 0.5522\n",
            "Epoch 60/100\n",
            "152/152 [==============================] - 10s 65ms/step - loss: 6.6530e-05 - accuracy: 1.0000 - val_loss: 3.0161 - val_accuracy: 0.5541\n",
            "Epoch 61/100\n",
            "152/152 [==============================] - 10s 63ms/step - loss: 6.2088e-05 - accuracy: 1.0000 - val_loss: 3.0238 - val_accuracy: 0.5541\n",
            "Epoch 62/100\n",
            "152/152 [==============================] - 10s 64ms/step - loss: 5.8114e-05 - accuracy: 1.0000 - val_loss: 3.0410 - val_accuracy: 0.5578\n",
            "Epoch 63/100\n",
            "152/152 [==============================] - 10s 65ms/step - loss: 5.7953e-05 - accuracy: 1.0000 - val_loss: 3.0482 - val_accuracy: 0.5616\n",
            "Epoch 64/100\n",
            "152/152 [==============================] - 10s 65ms/step - loss: 5.3860e-05 - accuracy: 1.0000 - val_loss: 3.0682 - val_accuracy: 0.5541\n",
            "Epoch 65/100\n",
            "152/152 [==============================] - 10s 65ms/step - loss: 4.7089e-05 - accuracy: 1.0000 - val_loss: 3.0682 - val_accuracy: 0.5597\n",
            "Epoch 66/100\n",
            "152/152 [==============================] - 10s 65ms/step - loss: 4.3723e-05 - accuracy: 1.0000 - val_loss: 3.0761 - val_accuracy: 0.5616\n",
            "Epoch 67/100\n",
            "152/152 [==============================] - 10s 65ms/step - loss: 4.0420e-05 - accuracy: 1.0000 - val_loss: 3.0866 - val_accuracy: 0.5616\n",
            "Epoch 68/100\n",
            "152/152 [==============================] - 10s 64ms/step - loss: 3.7620e-05 - accuracy: 1.0000 - val_loss: 3.0893 - val_accuracy: 0.5616\n",
            "Epoch 69/100\n",
            "152/152 [==============================] - 10s 63ms/step - loss: 3.5333e-05 - accuracy: 1.0000 - val_loss: 3.1066 - val_accuracy: 0.5578\n",
            "Epoch 70/100\n",
            "152/152 [==============================] - 10s 64ms/step - loss: 3.3245e-05 - accuracy: 1.0000 - val_loss: 3.1119 - val_accuracy: 0.5616\n",
            "Epoch 71/100\n",
            "152/152 [==============================] - 10s 65ms/step - loss: 3.1455e-05 - accuracy: 1.0000 - val_loss: 3.1273 - val_accuracy: 0.5578\n",
            "Epoch 72/100\n",
            "152/152 [==============================] - 10s 63ms/step - loss: 3.0455e-05 - accuracy: 1.0000 - val_loss: 3.1359 - val_accuracy: 0.5597\n",
            "Epoch 73/100\n",
            "152/152 [==============================] - 10s 64ms/step - loss: 2.6813e-05 - accuracy: 1.0000 - val_loss: 3.1384 - val_accuracy: 0.5597\n",
            "Epoch 74/100\n",
            "152/152 [==============================] - 10s 65ms/step - loss: 2.5451e-05 - accuracy: 1.0000 - val_loss: 3.1477 - val_accuracy: 0.5560\n",
            "Epoch 75/100\n",
            "152/152 [==============================] - 10s 64ms/step - loss: 2.4162e-05 - accuracy: 1.0000 - val_loss: 3.1633 - val_accuracy: 0.5560\n",
            "Epoch 76/100\n",
            "152/152 [==============================] - 10s 63ms/step - loss: 2.2233e-05 - accuracy: 1.0000 - val_loss: 3.1717 - val_accuracy: 0.5560\n",
            "Epoch 77/100\n",
            "152/152 [==============================] - 10s 65ms/step - loss: 2.0611e-05 - accuracy: 1.0000 - val_loss: 3.1861 - val_accuracy: 0.5541\n",
            "Epoch 78/100\n",
            "152/152 [==============================] - 10s 65ms/step - loss: 1.9182e-05 - accuracy: 1.0000 - val_loss: 3.1838 - val_accuracy: 0.5578\n",
            "Epoch 79/100\n",
            "152/152 [==============================] - 10s 64ms/step - loss: 1.8258e-05 - accuracy: 1.0000 - val_loss: 3.1948 - val_accuracy: 0.5541\n",
            "Epoch 80/100\n",
            "152/152 [==============================] - 10s 64ms/step - loss: 1.7023e-05 - accuracy: 1.0000 - val_loss: 3.2147 - val_accuracy: 0.5560\n",
            "Epoch 81/100\n",
            "152/152 [==============================] - 10s 65ms/step - loss: 1.5699e-05 - accuracy: 1.0000 - val_loss: 3.2236 - val_accuracy: 0.5560\n",
            "Epoch 82/100\n",
            "152/152 [==============================] - 10s 65ms/step - loss: 1.5013e-05 - accuracy: 1.0000 - val_loss: 3.2319 - val_accuracy: 0.5578\n",
            "Epoch 83/100\n",
            "152/152 [==============================] - 10s 63ms/step - loss: 1.4301e-05 - accuracy: 1.0000 - val_loss: 3.2399 - val_accuracy: 0.5578\n",
            "Epoch 84/100\n",
            "152/152 [==============================] - 10s 64ms/step - loss: 1.2886e-05 - accuracy: 1.0000 - val_loss: 3.2508 - val_accuracy: 0.5541\n",
            "Epoch 85/100\n",
            "152/152 [==============================] - 10s 64ms/step - loss: 1.2149e-05 - accuracy: 1.0000 - val_loss: 3.2706 - val_accuracy: 0.5578\n",
            "Epoch 86/100\n",
            "152/152 [==============================] - 10s 64ms/step - loss: 1.1237e-05 - accuracy: 1.0000 - val_loss: 3.2688 - val_accuracy: 0.5560\n",
            "Epoch 87/100\n",
            "152/152 [==============================] - 9s 62ms/step - loss: 1.0399e-05 - accuracy: 1.0000 - val_loss: 3.2807 - val_accuracy: 0.5541\n",
            "Epoch 88/100\n",
            "152/152 [==============================] - 10s 64ms/step - loss: 9.7612e-06 - accuracy: 1.0000 - val_loss: 3.2977 - val_accuracy: 0.5485\n",
            "Epoch 89/100\n",
            "152/152 [==============================] - 10s 64ms/step - loss: 0.0559 - accuracy: 0.9847 - val_loss: 3.2530 - val_accuracy: 0.5466\n",
            "Epoch 90/100\n",
            "152/152 [==============================] - 10s 64ms/step - loss: 0.0019 - accuracy: 0.9997 - val_loss: 3.2734 - val_accuracy: 0.5504\n",
            "Epoch 91/100\n",
            "152/152 [==============================] - 10s 64ms/step - loss: 2.0903e-04 - accuracy: 1.0000 - val_loss: 3.3231 - val_accuracy: 0.5504\n",
            "Epoch 92/100\n",
            "152/152 [==============================] - 10s 65ms/step - loss: 1.5453e-04 - accuracy: 1.0000 - val_loss: 3.3492 - val_accuracy: 0.5485\n",
            "Epoch 93/100\n",
            "152/152 [==============================] - 10s 64ms/step - loss: 1.2531e-04 - accuracy: 1.0000 - val_loss: 3.3685 - val_accuracy: 0.5448\n",
            "Epoch 94/100\n",
            "152/152 [==============================] - 9s 62ms/step - loss: 1.0636e-04 - accuracy: 1.0000 - val_loss: 3.3863 - val_accuracy: 0.5448\n",
            "Epoch 95/100\n",
            "152/152 [==============================] - 10s 64ms/step - loss: 9.2246e-05 - accuracy: 1.0000 - val_loss: 3.4098 - val_accuracy: 0.5448\n",
            "Epoch 96/100\n",
            "152/152 [==============================] - 10s 64ms/step - loss: 8.1572e-05 - accuracy: 1.0000 - val_loss: 3.4234 - val_accuracy: 0.5466\n",
            "Epoch 97/100\n",
            "152/152 [==============================] - 10s 63ms/step - loss: 7.2761e-05 - accuracy: 1.0000 - val_loss: 3.4363 - val_accuracy: 0.5448\n",
            "Epoch 98/100\n",
            "152/152 [==============================] - 10s 64ms/step - loss: 6.5373e-05 - accuracy: 1.0000 - val_loss: 3.4550 - val_accuracy: 0.5504\n",
            "Epoch 99/100\n",
            "152/152 [==============================] - 10s 64ms/step - loss: 5.9700e-05 - accuracy: 1.0000 - val_loss: 3.4657 - val_accuracy: 0.5466\n",
            "Epoch 100/100\n",
            "152/152 [==============================] - 10s 63ms/step - loss: 5.4192e-05 - accuracy: 1.0000 - val_loss: 3.4818 - val_accuracy: 0.5448\n"
          ]
        }
      ]
    },
    {
      "cell_type": "code",
      "source": [
        "testpath = 'test/'\n",
        "testImg = [testpath+f for f in listdir(testpath) if listdir(join(testpath, f))]\n",
        "rimg = []\n",
        "for imagePath in (testImg):\n",
        "    for item in (os.listdir(imagePath)):\n",
        "        file = os.path.join(imagePath, item)\n",
        "        if item.split('.')[0] != \"\":\n",
        "           \n",
        "          img = cv2.imread(file , cv2.COLOR_BGR2RGB)\n",
        "          ori = cv2.cvtColor(img, cv2.COLOR_BGR2RGB)\n",
        "          img = cv2.resize(img ,(width,width))\n",
        "          rimg = np.array(img)\n",
        "          rimg = rimg.astype('float32')\n",
        "          rimg /= 255\n",
        "          rimg = np.reshape(rimg ,(1,128,128,3))\n",
        "          predict = model.predict(rimg)\n",
        "          label = ['สิว','กลาก','ด่างขาว','ตุ่มพองน้ำใส','ผิวหนังอักเสบจากต่อมไขมัน','ลมพิษ','หูดข้าวสุก','เกลื้อน','โรคผื่นภูมิแพ้ผิวหนังหรือผิวหนังอักเสบ','โรคสะเก็ดเงิน','โรคหลอดเลือดอักเสบ','โรคหิด','โรคเริม']\n",
        "          # label = ['Acne','Ringworm']\n",
        "          result = label[np.argmax(predict)]\n",
        "          print(predict)\n",
        "          print('real:'+str(item))\n",
        "          print('predict:'+str(result))\n",
        "          plt.imshow(ori)\n",
        "          plt.show()\n",
        "\n",
        "\n",
        "\n",
        "        "
      ],
      "metadata": {
        "id": "xl9pT3yburLd"
      },
      "execution_count": null,
      "outputs": []
    },
    {
      "cell_type": "code",
      "source": [
        "model.save(\"model.h5\")"
      ],
      "metadata": {
        "id": "HpwqqXxQganr"
      },
      "execution_count": null,
      "outputs": []
    },
    {
      "cell_type": "code",
      "source": [
        "# Converting a SavedModel to a TensorFlow Lite model. \n",
        "saved_model_dir = r'/content/model.h5' \n",
        "loaded_model = tf.keras.models.load_model(saved_model_dir)\n",
        "converter = tf.lite.TFLiteConverter.from_keras_model(loaded_model)\n",
        "tflite_model = converter.convert()\n",
        "open(\"my_model_converted_model.tflite\", \"wb\").write(tflite_model)\n"
      ],
      "metadata": {
        "id": "d9b2mYLEgbu9",
        "colab": {
          "base_uri": "https://localhost:8080/"
        },
        "outputId": "1e0e2085-0214-4e17-e43f-f8a8f63f2c24"
      },
      "execution_count": null,
      "outputs": [
        {
          "output_type": "stream",
          "name": "stderr",
          "text": [
            "WARNING:absl:Function `_wrapped_model` contains input name(s) mobilenetv2_1.00_128_input with unsupported characters which will be renamed to mobilenetv2_1_00_128_input in the SavedModel.\n",
            "WARNING:absl:Found untraced functions such as _jit_compiled_convolution_op, _update_step_xla, _jit_compiled_convolution_op, _jit_compiled_convolution_op, _jit_compiled_convolution_op while saving (showing 5 of 54). These functions will not be directly callable after loading.\n"
          ]
        },
        {
          "output_type": "execute_result",
          "data": {
            "text/plain": [
              "14779488"
            ]
          },
          "metadata": {},
          "execution_count": 12
        }
      ]
    }
  ]
}